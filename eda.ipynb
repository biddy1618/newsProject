{
 "cells": [
  {
   "cell_type": "code",
   "execution_count": 1,
   "id": "8efc871d-cb56-4478-bb44-a33abc0d7e4c",
   "metadata": {},
   "outputs": [],
   "source": [
    "import pandas as pd\n",
    "\n",
    "from config.development import DATABASE"
   ]
  },
  {
   "cell_type": "code",
   "execution_count": 3,
   "id": "47802fd5-c27f-4b2c-a1eb-bd85d7d6adf7",
   "metadata": {},
   "outputs": [],
   "source": [
    "df = pd.read_sql('articles', DATABASE, index_col = 'id')"
   ]
  },
  {
   "cell_type": "code",
   "execution_count": 4,
   "id": "df337dad-5c47-4b90-8627-3c76a5e2edbd",
   "metadata": {},
   "outputs": [
    {
     "data": {
      "text/html": [
       "<div>\n",
       "<style scoped>\n",
       "    .dataframe tbody tr th:only-of-type {\n",
       "        vertical-align: middle;\n",
       "    }\n",
       "\n",
       "    .dataframe tbody tr th {\n",
       "        vertical-align: top;\n",
       "    }\n",
       "\n",
       "    .dataframe thead th {\n",
       "        text-align: right;\n",
       "    }\n",
       "</style>\n",
       "<table border=\"1\" class=\"dataframe\">\n",
       "  <thead>\n",
       "    <tr style=\"text-align: right;\">\n",
       "      <th></th>\n",
       "      <th>url</th>\n",
       "      <th>title</th>\n",
       "      <th>date</th>\n",
       "      <th>body</th>\n",
       "      <th>author</th>\n",
       "    </tr>\n",
       "    <tr>\n",
       "      <th>id</th>\n",
       "      <th></th>\n",
       "      <th></th>\n",
       "      <th></th>\n",
       "      <th></th>\n",
       "      <th></th>\n",
       "    </tr>\n",
       "  </thead>\n",
       "  <tbody>\n",
       "    <tr>\n",
       "      <th>7176</th>\n",
       "      <td>https://www.inform.kz/ru/pravitel-stvennaya-ne...</td>\n",
       "      <td>ПРАВИТЕЛЬСТВЕННАЯ НЕДЕЛЯ: В Казахстане начинае...</td>\n",
       "      <td>2012-03-16</td>\n",
       "      <td>АСТАНА. 16 марта. КАЗИНФОРМ - В Казахстане нач...</td>\n",
       "      <td>Мейрамбек Байгарин</td>\n",
       "    </tr>\n",
       "    <tr>\n",
       "      <th>1467</th>\n",
       "      <td>https://www.inform.kz/ru/glava-gosudarstva-pod...</td>\n",
       "      <td>Глава государства подписал Закон РК «О телерад...</td>\n",
       "      <td>2012-01-18</td>\n",
       "      <td>АСТАНА. 18 января. КАЗИНФОРМ - Глава государст...</td>\n",
       "      <td>None</td>\n",
       "    </tr>\n",
       "    <tr>\n",
       "      <th>8512</th>\n",
       "      <td>https://www.inform.kz/ru/srochno-soversheno-na...</td>\n",
       "      <td>СРОЧНО: Совершено нападение на пост транспортн...</td>\n",
       "      <td>2012-04-02</td>\n",
       "      <td>АСТАНА. 2 апреля. КАЗИНФОРМ - Сегодня ночью, в...</td>\n",
       "      <td>None</td>\n",
       "    </tr>\n",
       "    <tr>\n",
       "      <th>21383</th>\n",
       "      <td>https://www.inform.kz/ru/mangystauskoe-gkp-rab...</td>\n",
       "      <td>Мангыстауское ГКП, работающее в коммунальной с...</td>\n",
       "      <td>2012-08-13</td>\n",
       "      <td>АКТАУ. 13 августа. КАЗИНФОРМ - ГКП «ТВСиВ», от...</td>\n",
       "      <td>Александра Данилова</td>\n",
       "    </tr>\n",
       "    <tr>\n",
       "      <th>6715</th>\n",
       "      <td>https://www.inform.kz/ru/v-kazahstane-razrabat...</td>\n",
       "      <td>В Казахстане разрабатывается Программа развити...</td>\n",
       "      <td>2012-03-12</td>\n",
       "      <td>АСТАНА. 12 марта. КАЗИНФОРМ - Минэкономразвити...</td>\n",
       "      <td>None</td>\n",
       "    </tr>\n",
       "    <tr>\n",
       "      <th>19109</th>\n",
       "      <td>https://www.inform.kz/ru/lyudi-perestali-pryat...</td>\n",
       "      <td>Люди перестали прятать больной скот и активно ...</td>\n",
       "      <td>2012-07-19</td>\n",
       "      <td>АСТАНА. 19 июля. КАЗИНФОРМ - Люди перестали, к...</td>\n",
       "      <td>None</td>\n",
       "    </tr>\n",
       "    <tr>\n",
       "      <th>2765</th>\n",
       "      <td>https://www.inform.kz/ru/ogranicheno-dvizhenie...</td>\n",
       "      <td>Ограничено движение в 4 областях Казахстана  -...</td>\n",
       "      <td>2012-01-31</td>\n",
       "      <td>АСТАНА. 31 января. КАЗИНФОРМ - По состоянию на...</td>\n",
       "      <td>None</td>\n",
       "    </tr>\n",
       "    <tr>\n",
       "      <th>26346</th>\n",
       "      <td>https://www.inform.kz/ru/moshennika-obmanyvavs...</td>\n",
       "      <td>Мошенника, обманывавшего сельчан при помощи ба...</td>\n",
       "      <td>2012-10-04</td>\n",
       "      <td>ШЫМКЕНТ. 4 октября. КАЗИНФОРМ - Молодого челов...</td>\n",
       "      <td>None</td>\n",
       "    </tr>\n",
       "    <tr>\n",
       "      <th>18581</th>\n",
       "      <td>https://www.inform.kz/ru/komanda-astana-finish...</td>\n",
       "      <td>Команда «Астана» финишировала на Шелковом пути...</td>\n",
       "      <td>2012-07-13</td>\n",
       "      <td>АЛМАТЫ. 13 июля. КАЗИНФОРМ - В Майкопе наканун...</td>\n",
       "      <td>Мустафина Сара</td>\n",
       "    </tr>\n",
       "    <tr>\n",
       "      <th>21161</th>\n",
       "      <td>https://www.inform.kz/ru/v-rk-sozdan-effektivn...</td>\n",
       "      <td>В РК создан эффективный механизм для работы ма...</td>\n",
       "      <td>2012-08-10</td>\n",
       "      <td>АЛМАТЫ. 10 августа. КАЗИНФОРМ - Инвестиционная...</td>\n",
       "      <td>Мустафина Сара</td>\n",
       "    </tr>\n",
       "  </tbody>\n",
       "</table>\n",
       "</div>"
      ],
      "text/plain": [
       "                                                     url  \\\n",
       "id                                                         \n",
       "7176   https://www.inform.kz/ru/pravitel-stvennaya-ne...   \n",
       "1467   https://www.inform.kz/ru/glava-gosudarstva-pod...   \n",
       "8512   https://www.inform.kz/ru/srochno-soversheno-na...   \n",
       "21383  https://www.inform.kz/ru/mangystauskoe-gkp-rab...   \n",
       "6715   https://www.inform.kz/ru/v-kazahstane-razrabat...   \n",
       "19109  https://www.inform.kz/ru/lyudi-perestali-pryat...   \n",
       "2765   https://www.inform.kz/ru/ogranicheno-dvizhenie...   \n",
       "26346  https://www.inform.kz/ru/moshennika-obmanyvavs...   \n",
       "18581  https://www.inform.kz/ru/komanda-astana-finish...   \n",
       "21161  https://www.inform.kz/ru/v-rk-sozdan-effektivn...   \n",
       "\n",
       "                                                   title       date  \\\n",
       "id                                                                    \n",
       "7176   ПРАВИТЕЛЬСТВЕННАЯ НЕДЕЛЯ: В Казахстане начинае... 2012-03-16   \n",
       "1467   Глава государства подписал Закон РК «О телерад... 2012-01-18   \n",
       "8512   СРОЧНО: Совершено нападение на пост транспортн... 2012-04-02   \n",
       "21383  Мангыстауское ГКП, работающее в коммунальной с... 2012-08-13   \n",
       "6715   В Казахстане разрабатывается Программа развити... 2012-03-12   \n",
       "19109  Люди перестали прятать больной скот и активно ... 2012-07-19   \n",
       "2765   Ограничено движение в 4 областях Казахстана  -... 2012-01-31   \n",
       "26346  Мошенника, обманывавшего сельчан при помощи ба... 2012-10-04   \n",
       "18581  Команда «Астана» финишировала на Шелковом пути... 2012-07-13   \n",
       "21161  В РК создан эффективный механизм для работы ма... 2012-08-10   \n",
       "\n",
       "                                                    body               author  \n",
       "id                                                                             \n",
       "7176   АСТАНА. 16 марта. КАЗИНФОРМ - В Казахстане нач...   Мейрамбек Байгарин  \n",
       "1467   АСТАНА. 18 января. КАЗИНФОРМ - Глава государст...                 None  \n",
       "8512   АСТАНА. 2 апреля. КАЗИНФОРМ - Сегодня ночью, в...                 None  \n",
       "21383  АКТАУ. 13 августа. КАЗИНФОРМ - ГКП «ТВСиВ», от...  Александра Данилова  \n",
       "6715   АСТАНА. 12 марта. КАЗИНФОРМ - Минэкономразвити...                 None  \n",
       "19109  АСТАНА. 19 июля. КАЗИНФОРМ - Люди перестали, к...                 None  \n",
       "2765   АСТАНА. 31 января. КАЗИНФОРМ - По состоянию на...                 None  \n",
       "26346  ШЫМКЕНТ. 4 октября. КАЗИНФОРМ - Молодого челов...                 None  \n",
       "18581  АЛМАТЫ. 13 июля. КАЗИНФОРМ - В Майкопе наканун...       Мустафина Сара  \n",
       "21161  АЛМАТЫ. 10 августа. КАЗИНФОРМ - Инвестиционная...       Мустафина Сара  "
      ]
     },
     "execution_count": 4,
     "metadata": {},
     "output_type": "execute_result"
    }
   ],
   "source": [
    "df.sample(10)"
   ]
  },
  {
   "cell_type": "markdown",
   "id": "23f54e60-2350-430f-897f-d8810a425fe3",
   "metadata": {},
   "source": [
    "# Text preprocessing\n",
    "## Basic preprocessing\n",
    "* Lower-case\n",
    "* Remove numbers and non-letter characters\n",
    "* Lemmatization"
   ]
  },
  {
   "cell_type": "code",
   "execution_count": 46,
   "id": "20248d3c-cc3f-41f8-8f7f-b25ccd0ed23e",
   "metadata": {},
   "outputs": [],
   "source": [
    "from sklearn.feature_extraction.text import TfidfVectorizer\n",
    "\n",
    "import numpy as np\n",
    "import re\n",
    "\n",
    "from tqdm.notebook import tqdm\n",
    "tqdm.pandas()\n",
    "\n",
    "from pymystem3 import Mystem\n",
    "mystem = Mystem()\n",
    "\n",
    "\n",
    "def preprocess(text):\n",
    "    global mystem\n",
    "    text = text.lower()\n",
    "    text = re.sub('[\\W_\\d]+', ' ', text)\n",
    "    text = mystem.lemmatize(text)\n",
    "    text = ''.join(text)\n",
    "    return text            \n",
    "\n",
    "df['body_preprocessed'] = df.body.progress_apply(preprocess)\n",
    "df['title_preprocessed'] = df.title.progress_apply(preprocess)"
   ]
  },
  {
   "cell_type": "markdown",
   "id": "19b87a66-363e-41c3-b4cc-32da7e2e6cee",
   "metadata": {},
   "source": [
    "## Search using TF-IDF"
   ]
  },
  {
   "cell_type": "code",
   "execution_count": null,
   "id": "fcc715e7-e5a9-4a60-827c-eaeb6b32221b",
   "metadata": {},
   "outputs": [],
   "source": [
    "tfidf_body = TfidfVectorizer(\n",
    "    ngram_range = (1,2),\n",
    "    max_df = 0.9,\n",
    "    min_df = 3,\n",
    "    max_features = 10000,\n",
    ")\n",
    "\n",
    "tfidf_title = TfidfVectorizer(\n",
    "    ngram_range = (1,2),\n",
    "    max_df = 0.9,\n",
    "    min_df = 3,\n",
    "    max_features = 5000,\n",
    ")\n",
    "\n",
    "tfidf_body_matrix = tfidf_body.fit_transform(df.body_preprocessed)\n",
    "tfidf_title_matrix = tfidf_title.fit_transform(df.title_preprocessed)"
   ]
  },
  {
   "cell_type": "markdown",
   "id": "8c23559c-54c0-46fd-9939-eb363bca6582",
   "metadata": {},
   "source": [
    "### Get top __n__ words the article"
   ]
  },
  {
   "cell_type": "code",
   "execution_count": 64,
   "id": "969efcef-5a06-4a80-bb1b-f3e8e2915c69",
   "metadata": {},
   "outputs": [
    {
     "data": {
      "text/plain": [
       "[(19089,\n",
       "  [('tod', 0.20681984481075893),\n",
       "   ('сессия', 0.18064729916815608),\n",
       "   ('тенге', 0.17473248636159405),\n",
       "   ('расчет', 0.1734085934335236),\n",
       "   ('закрытие сессия', 0.16403944705096613)])]"
      ]
     },
     "execution_count": 64,
     "metadata": {},
     "output_type": "execute_result"
    }
   ],
   "source": [
    "n, top_n = 1, 5\n",
    "a_ind = df.sample(n).index\n",
    "articles = df.body_preprocessed[a_ind]\n",
    "def top_n_tokens(tfidf_body: TfidfVectorizer, articles: pd.Series, top_n: int) -> list:\n",
    "    a_tfidf = tfidf_body.transform(articles).todense().A\n",
    "    a_srt = np.flip(np.argsort(a_tfidf, axis=-1), axis=-1)[:, :n]\n",
    "    m = tfidf_body.get_feature_names()\n",
    "    \n",
    "    a_tfidf = tfidf_body.transform(articles).todense().A\n",
    "    a_ind_srt = np.flip(np.argsort(a_tfidf, axis=-1), axis=-1)[:, :top_n]\n",
    "    fn = tfidf_body.get_feature_names()\n",
    "\n",
    "    return [(indT, [(fn[i], a_tfidf[ind, i]) for i in a_ind_srt[ind]]) for ind, indT in enumerate(articles.index)]\n",
    "\n",
    "top_n_tokens(tfidf_body, articles, top_n)"
   ]
  },
  {
   "cell_type": "code",
   "execution_count": 70,
   "id": "ce37d03c-73ac-4d6c-9fa0-6bc11dcec516",
   "metadata": {},
   "outputs": [
    {
     "data": {
      "text/plain": [
       "[(17617, 0.3569253429608193),\n",
       " (17527, 0.3365570339254973),\n",
       " (10765, 0.29488389571984813),\n",
       " (29970, 0.27606608574326563),\n",
       " (6696, 0.25999235343192195),\n",
       " (27363, 0.25891006645194387),\n",
       " (12324, 0.25526198778771575),\n",
       " (9353, 0.2363623923202727),\n",
       " (29377, 0.23379512708371142),\n",
       " (19861, 0.23110442680149904)]"
      ]
     },
     "execution_count": 70,
     "metadata": {},
     "output_type": "execute_result"
    }
   ],
   "source": [
    "from sklearn.metrics.pairwise import linear_kernel\n",
    "\n",
    "q = \"Если хочешь выиграть меня, то сука\"\n",
    "\n",
    "def get_top_n(query, tfidf_body, tfidf_body_matrix, tfidf_title, tfidf_title_matrix, n=10):\n",
    "    q_transformed = preprocess(q)\n",
    "    q_transformed_body = tfidf_body.transform([q_transformed])\n",
    "    q_transformed_title = tfidf_title.transform([q_transformed])\n",
    "\n",
    "    dist_body = linear_kernel(q_transformed_body, tfidf_body_matrix).flatten()\n",
    "    dist_title = linear_kernel(q_transformed_title, tfidf_title_matrix).flatten()\n",
    "\n",
    "    b_weight = 0.3\n",
    "    t_weight = 1 - b_weight\n",
    "\n",
    "    dist_weighted = b_weight * dist_body + t_weight * dist_title\n",
    "    top_n = dist_weighted.argsort()[-n:][::-1]\n",
    "    return list(zip(top_n, dist_weighted[top_n]))\n",
    "\n",
    "get_top_n(q, tfidf_body, tfidf_body_matrix, tfidf_title, tfidf_title_matrix)"
   ]
  },
  {
   "cell_type": "code",
   "execution_count": 71,
   "id": "0a4330b8-5561-4b9e-978f-4ddec8120903",
   "metadata": {},
   "outputs": [],
   "source": [
    "import pickle"
   ]
  },
  {
   "cell_type": "code",
   "execution_count": 72,
   "id": "f46ffd72-1f26-4142-ab12-565d881d9e7e",
   "metadata": {},
   "outputs": [],
   "source": [
    "SEARCH_FOLDER = './app/models/search/'"
   ]
  },
  {
   "cell_type": "code",
   "execution_count": 73,
   "id": "2f1840d8-5807-4df3-af40-95f49cf34775",
   "metadata": {},
   "outputs": [],
   "source": [
    "pickle.dump(tfidf_body, open(SEARCH_FOLDER + 'tfidf_body.pkl','wb'))\n",
    "pickle.dump(tfidf_body_matrix, open(SEARCH_FOLDER + 'tfidf_body_matrix.pkl','wb'))\n",
    "pickle.dump(tfidf_title, open(SEARCH_FOLDER + 'tfidf_title.pkl','wb'))\n",
    "pickle.dump(tfidf_title_matrix, open(SEARCH_FOLDER + 'tfidf_title_matrix.pkl','wb'))"
   ]
  },
  {
   "cell_type": "code",
   "execution_count": null,
   "id": "6825cbc8-8fd9-43ac-aa4a-ddf1a50899ed",
   "metadata": {},
   "outputs": [],
   "source": []
  }
 ],
 "metadata": {
  "kernelspec": {
   "display_name": "Python 3",
   "language": "python",
   "name": "python3"
  },
  "language_info": {
   "codemirror_mode": {
    "name": "ipython",
    "version": 3
   },
   "file_extension": ".py",
   "mimetype": "text/x-python",
   "name": "python",
   "nbconvert_exporter": "python",
   "pygments_lexer": "ipython3",
   "version": "3.6.13"
  }
 },
 "nbformat": 4,
 "nbformat_minor": 5
}
