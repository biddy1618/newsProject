{
 "cells": [
  {
   "cell_type": "code",
   "execution_count": 1,
   "id": "8efc871d-cb56-4478-bb44-a33abc0d7e4c",
   "metadata": {},
   "outputs": [],
   "source": [
    "import pandas as pd\n",
    "\n",
    "from config.development import DATABASE"
   ]
  },
  {
   "cell_type": "code",
   "execution_count": 33,
   "id": "47802fd5-c27f-4b2c-a1eb-bd85d7d6adf7",
   "metadata": {},
   "outputs": [],
   "source": [
    "df = pd.read_sql('articles', DATABASE, index_col = 'id')"
   ]
  },
  {
   "cell_type": "code",
   "execution_count": 3,
   "id": "df337dad-5c47-4b90-8627-3c76a5e2edbd",
   "metadata": {},
   "outputs": [
    {
     "data": {
      "text/html": [
       "<div>\n",
       "<style scoped>\n",
       "    .dataframe tbody tr th:only-of-type {\n",
       "        vertical-align: middle;\n",
       "    }\n",
       "\n",
       "    .dataframe tbody tr th {\n",
       "        vertical-align: top;\n",
       "    }\n",
       "\n",
       "    .dataframe thead th {\n",
       "        text-align: right;\n",
       "    }\n",
       "</style>\n",
       "<table border=\"1\" class=\"dataframe\">\n",
       "  <thead>\n",
       "    <tr style=\"text-align: right;\">\n",
       "      <th></th>\n",
       "      <th>url</th>\n",
       "      <th>title</th>\n",
       "      <th>date</th>\n",
       "      <th>body</th>\n",
       "      <th>author</th>\n",
       "    </tr>\n",
       "    <tr>\n",
       "      <th>id</th>\n",
       "      <th></th>\n",
       "      <th></th>\n",
       "      <th></th>\n",
       "      <th></th>\n",
       "      <th></th>\n",
       "    </tr>\n",
       "  </thead>\n",
       "  <tbody>\n",
       "    <tr>\n",
       "      <th>6176</th>\n",
       "      <td>https://www.inform.kz/ru/sleduyuschim-sopernik...</td>\n",
       "      <td>Следующим соперником Виталия Кличко станет Дэв...</td>\n",
       "      <td>2012-03-05</td>\n",
       "      <td>АСТАНА. 5 марта. КАЗИНФОРМ - Чемпион мира в су...</td>\n",
       "      <td>None</td>\n",
       "    </tr>\n",
       "    <tr>\n",
       "      <th>5217</th>\n",
       "      <td>https://www.inform.kz/ru/26-27-aprelya-v-astan...</td>\n",
       "      <td>26-27 апреля в Астане пройдет X Евразийский ме...</td>\n",
       "      <td>2012-02-24</td>\n",
       "      <td>Юбилейный десятый Евразийский медиафорум пройд...</td>\n",
       "      <td>None</td>\n",
       "    </tr>\n",
       "    <tr>\n",
       "      <th>6316</th>\n",
       "      <td>https://www.inform.kz/ru/utrennyaya-sessiya-ka...</td>\n",
       "      <td>Утренняя сессия KASE: доллар равен 147,93 тенге</td>\n",
       "      <td>2012-03-06</td>\n",
       "      <td>АЛМАТЫ. 6 марта. КАЗИНФОРМ - На Казахстанской ...</td>\n",
       "      <td>None</td>\n",
       "    </tr>\n",
       "    <tr>\n",
       "      <th>15524</th>\n",
       "      <td>https://www.inform.kz/ru/uchenye-nashli-klesch...</td>\n",
       "      <td>Ученые нашли клеща, виновного в гибели миллиар...</td>\n",
       "      <td>2012-06-10</td>\n",
       "      <td>АСТАНА. 10 июня. КАЗИНФОРМ - Клещ-паразит расп...</td>\n",
       "      <td>None</td>\n",
       "    </tr>\n",
       "    <tr>\n",
       "      <th>681</th>\n",
       "      <td>https://www.inform.kz/ru/kandidaty-v-deputaty-...</td>\n",
       "      <td>Кандидаты в депутаты Мажилиса от Ассамблеи нар...</td>\n",
       "      <td>2012-01-11</td>\n",
       "      <td>ШЫМКЕНТ. 11 января. КАЗИНФОРМ /Татьяна Пылаева...</td>\n",
       "      <td>Татьяна Никитина</td>\n",
       "    </tr>\n",
       "    <tr>\n",
       "      <th>3763</th>\n",
       "      <td>https://www.inform.kz/ru/v-kazahstane-proverya...</td>\n",
       "      <td>В Казахстане проверяют готовность противотубер...</td>\n",
       "      <td>2012-02-10</td>\n",
       "      <td>АСТАНА. 10 февраля. КАЗИНФОРМ - В Министерстве...</td>\n",
       "      <td>None</td>\n",
       "    </tr>\n",
       "    <tr>\n",
       "      <th>32442</th>\n",
       "      <td>https://www.inform.kz/ru/amerikancy-predlozhil...</td>\n",
       "      <td>Американцы предложили новый метод восстановлен...</td>\n",
       "      <td>2012-12-02</td>\n",
       "      <td>АСТАНА. 2 декабря. КАЗИНФОРМ - Одна сессия сти...</td>\n",
       "      <td>None</td>\n",
       "    </tr>\n",
       "    <tr>\n",
       "      <th>11063</th>\n",
       "      <td>https://www.inform.kz/ru/neobhodimo-prorabotat...</td>\n",
       "      <td>Необходимо проработать пути транспортировки не...</td>\n",
       "      <td>2012-04-26</td>\n",
       "      <td>АТЫРАУ. 26 апреля. КАЗИНФОРМ - Подводя итоги о...</td>\n",
       "      <td>Виктор Сутягин</td>\n",
       "    </tr>\n",
       "    <tr>\n",
       "      <th>3764</th>\n",
       "      <td>https://www.inform.kz/ru/v-karagandinskoy-obla...</td>\n",
       "      <td>В Карагандинской области в кадровый резерв рук...</td>\n",
       "      <td>2012-02-10</td>\n",
       "      <td>КАРАГАНДА. 10 февраля. КАЗИНФОРМ - В Караганди...</td>\n",
       "      <td>None</td>\n",
       "    </tr>\n",
       "    <tr>\n",
       "      <th>2613</th>\n",
       "      <td>https://www.inform.kz/ru/startoval-konkurs-gra...</td>\n",
       "      <td>Стартовал конкурс «Гранты  имени Сафи Утебаева...</td>\n",
       "      <td>2012-01-30</td>\n",
       "      <td>АСТАНА. 30 января. КАЗИНФОРМ - Национальная ко...</td>\n",
       "      <td>None</td>\n",
       "    </tr>\n",
       "  </tbody>\n",
       "</table>\n",
       "</div>"
      ],
      "text/plain": [
       "                                                     url  \\\n",
       "id                                                         \n",
       "6176   https://www.inform.kz/ru/sleduyuschim-sopernik...   \n",
       "5217   https://www.inform.kz/ru/26-27-aprelya-v-astan...   \n",
       "6316   https://www.inform.kz/ru/utrennyaya-sessiya-ka...   \n",
       "15524  https://www.inform.kz/ru/uchenye-nashli-klesch...   \n",
       "681    https://www.inform.kz/ru/kandidaty-v-deputaty-...   \n",
       "3763   https://www.inform.kz/ru/v-kazahstane-proverya...   \n",
       "32442  https://www.inform.kz/ru/amerikancy-predlozhil...   \n",
       "11063  https://www.inform.kz/ru/neobhodimo-prorabotat...   \n",
       "3764   https://www.inform.kz/ru/v-karagandinskoy-obla...   \n",
       "2613   https://www.inform.kz/ru/startoval-konkurs-gra...   \n",
       "\n",
       "                                                   title       date  \\\n",
       "id                                                                    \n",
       "6176   Следующим соперником Виталия Кличко станет Дэв... 2012-03-05   \n",
       "5217   26-27 апреля в Астане пройдет X Евразийский ме... 2012-02-24   \n",
       "6316     Утренняя сессия KASE: доллар равен 147,93 тенге 2012-03-06   \n",
       "15524  Ученые нашли клеща, виновного в гибели миллиар... 2012-06-10   \n",
       "681    Кандидаты в депутаты Мажилиса от Ассамблеи нар... 2012-01-11   \n",
       "3763   В Казахстане проверяют готовность противотубер... 2012-02-10   \n",
       "32442  Американцы предложили новый метод восстановлен... 2012-12-02   \n",
       "11063  Необходимо проработать пути транспортировки не... 2012-04-26   \n",
       "3764   В Карагандинской области в кадровый резерв рук... 2012-02-10   \n",
       "2613   Стартовал конкурс «Гранты  имени Сафи Утебаева... 2012-01-30   \n",
       "\n",
       "                                                    body            author  \n",
       "id                                                                          \n",
       "6176   АСТАНА. 5 марта. КАЗИНФОРМ - Чемпион мира в су...              None  \n",
       "5217   Юбилейный десятый Евразийский медиафорум пройд...              None  \n",
       "6316   АЛМАТЫ. 6 марта. КАЗИНФОРМ - На Казахстанской ...              None  \n",
       "15524  АСТАНА. 10 июня. КАЗИНФОРМ - Клещ-паразит расп...              None  \n",
       "681    ШЫМКЕНТ. 11 января. КАЗИНФОРМ /Татьяна Пылаева...  Татьяна Никитина  \n",
       "3763   АСТАНА. 10 февраля. КАЗИНФОРМ - В Министерстве...              None  \n",
       "32442  АСТАНА. 2 декабря. КАЗИНФОРМ - Одна сессия сти...              None  \n",
       "11063  АТЫРАУ. 26 апреля. КАЗИНФОРМ - Подводя итоги о...    Виктор Сутягин  \n",
       "3764   КАРАГАНДА. 10 февраля. КАЗИНФОРМ - В Караганди...              None  \n",
       "2613   АСТАНА. 30 января. КАЗИНФОРМ - Национальная ко...              None  "
      ]
     },
     "execution_count": 3,
     "metadata": {},
     "output_type": "execute_result"
    }
   ],
   "source": [
    "df.sample(10)"
   ]
  },
  {
   "cell_type": "markdown",
   "id": "23f54e60-2350-430f-897f-d8810a425fe3",
   "metadata": {},
   "source": [
    "# Text preprocessing\n",
    "## Basic preprocessing\n",
    "* Lower-case\n",
    "* Remove numbers and non-letter characters\n",
    "* Lemmatization"
   ]
  },
  {
   "cell_type": "code",
   "execution_count": 4,
   "id": "20248d3c-cc3f-41f8-8f7f-b25ccd0ed23e",
   "metadata": {},
   "outputs": [
    {
     "data": {
      "application/vnd.jupyter.widget-view+json": {
       "model_id": "c82de958f0d840f58e9ba7a2214afe55",
       "version_major": 2,
       "version_minor": 0
      },
      "text/plain": [
       "  0%|          | 0/32303 [00:00<?, ?it/s]"
      ]
     },
     "metadata": {},
     "output_type": "display_data"
    },
    {
     "data": {
      "application/vnd.jupyter.widget-view+json": {
       "model_id": "97b0c14f576a485ab6878eba782a633b",
       "version_major": 2,
       "version_minor": 0
      },
      "text/plain": [
       "  0%|          | 0/32303 [00:00<?, ?it/s]"
      ]
     },
     "metadata": {},
     "output_type": "display_data"
    }
   ],
   "source": [
    "from sklearn.feature_extraction.text import TfidfVectorizer\n",
    "\n",
    "import numpy as np\n",
    "import re\n",
    "\n",
    "from tqdm.notebook import tqdm\n",
    "tqdm.pandas()\n",
    "\n",
    "from pymystem3 import Mystem\n",
    "mystem = Mystem()\n",
    "\n",
    "\n",
    "def preprocess(text):\n",
    "    global mystem\n",
    "    text = text.lower()\n",
    "    text = re.sub('[\\W_\\d]+', ' ', text)\n",
    "    text = mystem.lemmatize(text)\n",
    "    text = ''.join(text)\n",
    "    return text            \n",
    "\n",
    "df['body_preprocessed'] = df.body.progress_apply(preprocess)\n",
    "df['title_preprocessed'] = df.title.progress_apply(preprocess)"
   ]
  },
  {
   "cell_type": "markdown",
   "id": "19b87a66-363e-41c3-b4cc-32da7e2e6cee",
   "metadata": {},
   "source": [
    "## Search using TF-IDF"
   ]
  },
  {
   "cell_type": "code",
   "execution_count": 35,
   "id": "d502095d-3cba-40c6-b15f-fb7178954999",
   "metadata": {},
   "outputs": [
    {
     "data": {
      "text/plain": [
       "array([    1,     2,     3, ..., 32443, 32444, 32445])"
      ]
     },
     "execution_count": 35,
     "metadata": {},
     "output_type": "execute_result"
    }
   ],
   "source": [
    "df.index.values"
   ]
  },
  {
   "cell_type": "code",
   "execution_count": 38,
   "id": "fcc715e7-e5a9-4a60-827c-eaeb6b32221b",
   "metadata": {},
   "outputs": [],
   "source": [
    "tfidf_body = TfidfVectorizer(\n",
    "    ngram_range = (1,2),\n",
    "    max_df = 0.8,\n",
    "    min_df = 3,\n",
    "    max_features = 10000,\n",
    ")\n",
    "\n",
    "tfidf_title = TfidfVectorizer(\n",
    "    ngram_range = (1,2),\n",
    "    max_df = 0.8,\n",
    "    min_df = 3,\n",
    "    max_features = 5000,\n",
    ")\n",
    "\n",
    "tfidf_index = df.index.values\n",
    "tfidf_body_matrix = tfidf_body.fit_transform(df.body_preprocessed)\n",
    "tfidf_title_matrix = tfidf_title.fit_transform(df.title_preprocessed)"
   ]
  },
  {
   "cell_type": "markdown",
   "id": "8c23559c-54c0-46fd-9939-eb363bca6582",
   "metadata": {},
   "source": [
    "### Get top __n__ words the article"
   ]
  },
  {
   "cell_type": "code",
   "execution_count": 7,
   "id": "969efcef-5a06-4a80-bb1b-f3e8e2915c69",
   "metadata": {},
   "outputs": [
    {
     "data": {
      "text/plain": [
       "[(2294,\n",
       "  [('сборная', 0.39223057079815954),\n",
       "   ('матч', 0.3612266905536463),\n",
       "   ('со счет', 0.2364300432213877),\n",
       "   ('чемпионат азия', 0.18873499864521773),\n",
       "   ('победа', 0.177628618367849)])]"
      ]
     },
     "execution_count": 7,
     "metadata": {},
     "output_type": "execute_result"
    }
   ],
   "source": [
    "n, top_n = 1, 5\n",
    "a_ind = df.sample(n).index\n",
    "articles = df.body_preprocessed[a_ind]\n",
    "def top_n_tokens(tfidf_body: TfidfVectorizer, articles: pd.Series, top_n: int) -> list:\n",
    "    a_tfidf = tfidf_body.transform(articles).todense().A\n",
    "    a_srt = np.flip(np.argsort(a_tfidf, axis=-1), axis=-1)[:, :n]\n",
    "    m = tfidf_body.get_feature_names()\n",
    "    \n",
    "    a_tfidf = tfidf_body.transform(articles).todense().A\n",
    "    a_ind_srt = np.flip(np.argsort(a_tfidf, axis=-1), axis=-1)[:, :top_n]\n",
    "    fn = tfidf_body.get_feature_names()\n",
    "\n",
    "    return [(indT, [(fn[i], a_tfidf[ind, i]) for i in a_ind_srt[ind]]) for ind, indT in enumerate(articles.index)]\n",
    "\n",
    "top_n_tokens(tfidf_body, articles, top_n)"
   ]
  },
  {
   "cell_type": "code",
   "execution_count": 39,
   "id": "ce37d03c-73ac-4d6c-9fa0-6bc11dcec516",
   "metadata": {},
   "outputs": [
    {
     "data": {
      "text/plain": [
       "[(17502, 0.35695989475378637),\n",
       " (17403, 0.3365570339254973),\n",
       " (10590, 0.2949825758394572),\n",
       " (29902, 0.2760671032121855),\n",
       " (6498, 0.25999235343192195),\n",
       " (27290, 0.25895570023446857),\n",
       " (12141, 0.2552753608379427),\n",
       " (9166, 0.23654858372284027),\n",
       " (29306, 0.23380446277504213),\n",
       " (19770, 0.23115299691742297)]"
      ]
     },
     "execution_count": 39,
     "metadata": {},
     "output_type": "execute_result"
    }
   ],
   "source": [
    "from sklearn.metrics.pairwise import linear_kernel\n",
    "\n",
    "q = \"Если хочешь выиграть меня, то сука\"\n",
    "\n",
    "def get_top_n(query, tfidf_body, tfidf_body_matrix, tfidf_title, tfidf_title_matrix, tfidf_index, n=10):\n",
    "    q_transformed = preprocess(q)\n",
    "    q_transformed_body = tfidf_body.transform([q_transformed])\n",
    "    q_transformed_title = tfidf_title.transform([q_transformed])\n",
    "\n",
    "    dist_body = linear_kernel(q_transformed_body, tfidf_body_matrix).flatten()\n",
    "    dist_title = linear_kernel(q_transformed_title, tfidf_title_matrix).flatten()\n",
    "\n",
    "    b_weight = 0.3\n",
    "    t_weight = 1 - b_weight\n",
    "\n",
    "    dist_weighted = b_weight * dist_body + t_weight * dist_title\n",
    "    top_n = dist_weighted.argsort()[-n:][::-1]\n",
    "    return list(zip(tfidf_index[top_n], dist_weighted[top_n]))\n",
    "\n",
    "get_top_n(q, tfidf_body, tfidf_body_matrix, tfidf_title, tfidf_title_matrix, tfidf_index)"
   ]
  },
  {
   "cell_type": "code",
   "execution_count": 9,
   "id": "0a4330b8-5561-4b9e-978f-4ddec8120903",
   "metadata": {},
   "outputs": [],
   "source": [
    "import pickle"
   ]
  },
  {
   "cell_type": "code",
   "execution_count": 10,
   "id": "f46ffd72-1f26-4142-ab12-565d881d9e7e",
   "metadata": {},
   "outputs": [],
   "source": [
    "SEARCH_FOLDER = './app/models/search/'"
   ]
  },
  {
   "cell_type": "code",
   "execution_count": 53,
   "id": "2f1840d8-5807-4df3-af40-95f49cf34775",
   "metadata": {},
   "outputs": [],
   "source": [
    "pickle.dump(tfidf_body, open(SEARCH_FOLDER + 'tfidf_body.pkl','wb'))\n",
    "pickle.dump(tfidf_body_matrix, open(SEARCH_FOLDER + 'tfidf_body_matrix.pkl','wb'))\n",
    "pickle.dump(tfidf_title, open(SEARCH_FOLDER + 'tfidf_title.pkl','wb'))\n",
    "pickle.dump(tfidf_title_matrix, open(SEARCH_FOLDER + 'tfidf_title_matrix.pkl','wb'))\n",
    "pickle.dump(tfidf_index, open(SEARCH_FOLDER + 'tfidf_index.pkl','wb'))"
   ]
  },
  {
   "cell_type": "markdown",
   "id": "de729a2f-2e8b-41e9-a470-9c019170afed",
   "metadata": {},
   "source": [
    "### Load the pickle files for search"
   ]
  },
  {
   "cell_type": "code",
   "execution_count": 12,
   "id": "3d4b5b81-5092-49d7-9b5e-b88f8471a33f",
   "metadata": {},
   "outputs": [],
   "source": [
    "del tfidf_body, tfidf_body_matrix, tfidf_title, tfidf_title_matrix"
   ]
  },
  {
   "cell_type": "code",
   "execution_count": 13,
   "id": "6ac1121c-924c-4b90-87cb-d7b1783e06df",
   "metadata": {},
   "outputs": [],
   "source": [
    "tfidf_body = pickle.load(open(SEARCH_FOLDER + 'tfidf_body.pkl', 'rb'))\n",
    "tfidf_body_matrix = pickle.load(open(SEARCH_FOLDER + 'tfidf_body_matrix.pkl', 'rb'))\n",
    "tfidf_title = pickle.load(open(SEARCH_FOLDER + 'tfidf_title.pkl', 'rb'))\n",
    "tfidf_title_matrix = pickle.load(open(SEARCH_FOLDER + 'tfidf_title_matrix.pkl', 'rb'))"
   ]
  },
  {
   "cell_type": "code",
   "execution_count": 41,
   "id": "cc316dd4-2b7b-422f-9d1e-b6b505a03805",
   "metadata": {},
   "outputs": [
    {
     "data": {
      "text/plain": [
       "[(17502, 0.35695989475378637),\n",
       " (17403, 0.3365570339254973),\n",
       " (10590, 0.2949825758394572),\n",
       " (29902, 0.2760671032121855),\n",
       " (6498, 0.25999235343192195),\n",
       " (27290, 0.25895570023446857),\n",
       " (12141, 0.2552753608379427),\n",
       " (9166, 0.23654858372284027),\n",
       " (29306, 0.23380446277504213),\n",
       " (19770, 0.23115299691742297)]"
      ]
     },
     "execution_count": 41,
     "metadata": {},
     "output_type": "execute_result"
    }
   ],
   "source": [
    "get_top_n(q, tfidf_body, tfidf_body_matrix, tfidf_title, tfidf_title_matrix, tfidf_index)"
   ]
  },
  {
   "cell_type": "code",
   "execution_count": 43,
   "id": "38f8b498-6cf5-40f5-8d44-e8020a9b086a",
   "metadata": {},
   "outputs": [
    {
     "name": "stdout",
     "output_type": "stream",
     "text": [
      "(6205, 18605, 19599, 20066, 22327, 2247, 30348, 21790, 22225, 15279)\n"
     ]
    }
   ],
   "source": [
    "q = 'Олимпиада в пекине'\n",
    "res = get_top_n(q, tfidf_body, tfidf_body_matrix, tfidf_title, tfidf_title_matrix, tfidf_index)\n",
    "ids, ranks = zip(*res)\n",
    "print(ids)"
   ]
  },
  {
   "cell_type": "code",
   "execution_count": 51,
   "id": "0fc77579-4c18-4462-b9f2-e9ba2d45ef2d",
   "metadata": {},
   "outputs": [
    {
     "data": {
      "text/plain": [
       "[6205, 18605, 19599, 20066, 22327, 2247, 30348, 21790, 22225, 15279]"
      ]
     },
     "execution_count": 51,
     "metadata": {},
     "output_type": "execute_result"
    }
   ],
   "source": [
    "list(ids)"
   ]
  },
  {
   "cell_type": "code",
   "execution_count": 52,
   "id": "89a069b9-6656-4489-9dce-ed7aa9e38bcc",
   "metadata": {},
   "outputs": [
    {
     "data": {
      "text/html": [
       "<div>\n",
       "<style scoped>\n",
       "    .dataframe tbody tr th:only-of-type {\n",
       "        vertical-align: middle;\n",
       "    }\n",
       "\n",
       "    .dataframe tbody tr th {\n",
       "        vertical-align: top;\n",
       "    }\n",
       "\n",
       "    .dataframe thead th {\n",
       "        text-align: right;\n",
       "    }\n",
       "</style>\n",
       "<table border=\"1\" class=\"dataframe\">\n",
       "  <thead>\n",
       "    <tr style=\"text-align: right;\">\n",
       "      <th></th>\n",
       "      <th>url</th>\n",
       "      <th>title</th>\n",
       "      <th>date</th>\n",
       "      <th>body</th>\n",
       "      <th>author</th>\n",
       "    </tr>\n",
       "    <tr>\n",
       "      <th>id</th>\n",
       "      <th></th>\n",
       "      <th></th>\n",
       "      <th></th>\n",
       "      <th></th>\n",
       "      <th></th>\n",
       "    </tr>\n",
       "  </thead>\n",
       "  <tbody>\n",
       "    <tr>\n",
       "      <th>6205</th>\n",
       "      <td>https://www.inform.kz/ru/v-pekine-otkrylas-ses...</td>\n",
       "      <td>В Пекине открылась сессия ВСНП</td>\n",
       "      <td>2012-03-05</td>\n",
       "      <td>ПЕКИН. 5 марта. КАЗИНФОРМ - Сегодня в Пекине в...</td>\n",
       "      <td>Руслан Сулейменов</td>\n",
       "    </tr>\n",
       "    <tr>\n",
       "      <th>18605</th>\n",
       "      <td>https://www.inform.kz/ru/na-olimpiade-v-london...</td>\n",
       "      <td>На Олимпиаде в Лондоне Гульнафис Айтмухамбетов...</td>\n",
       "      <td>2012-07-13</td>\n",
       "      <td>АТЫРАУ. 13 июля. КАЗИНФОРМ - Бронзовый призер ...</td>\n",
       "      <td>Виктор Сутягин</td>\n",
       "    </tr>\n",
       "    <tr>\n",
       "      <th>19599</th>\n",
       "      <td>https://www.inform.kz/ru/v-londone-kazahstansk...</td>\n",
       "      <td>В Лондоне казахстанская сборная планирует выст...</td>\n",
       "      <td>2012-07-25</td>\n",
       "      <td>ЛОНДОН. 25 июля. КАЗИНФОРМ - В Лондоне казахст...</td>\n",
       "      <td>None</td>\n",
       "    </tr>\n",
       "    <tr>\n",
       "      <th>20066</th>\n",
       "      <td>https://www.inform.kz/ru/samye-zavidnye-nevest...</td>\n",
       "      <td>Самые завидные невесты Олимпиады</td>\n",
       "      <td>2012-07-31</td>\n",
       "      <td>АСТАНА. 31 июля. КАЗИНФОРМ - Внимание зрителей...</td>\n",
       "      <td>None</td>\n",
       "    </tr>\n",
       "    <tr>\n",
       "      <th>22327</th>\n",
       "      <td>https://www.inform.kz/ru/v-subbotu-novym-aviam...</td>\n",
       "      <td>В субботу новым авиамаршрутом Астана-Пекин в с...</td>\n",
       "      <td>2012-08-24</td>\n",
       "      <td>ПЕКИН. 24 августа. КАЗИНФОРМ - В субботу, 25 а...</td>\n",
       "      <td>Руслан Сулейменов</td>\n",
       "    </tr>\n",
       "    <tr>\n",
       "      <th>2247</th>\n",
       "      <td>https://www.inform.kz/ru/v-pekine-tschatel-no-...</td>\n",
       "      <td>В Пекине тщательно следят за качеством воздуха</td>\n",
       "      <td>2012-01-26</td>\n",
       "      <td>ПЕКИН. 26 января. КАЗИНФОРМ /Руслан Сулейменов...</td>\n",
       "      <td>Руслан Сулейменов</td>\n",
       "    </tr>\n",
       "    <tr>\n",
       "      <th>30348</th>\n",
       "      <td>https://www.inform.kz/ru/v-pekine-izberut-novo...</td>\n",
       "      <td>В Пекине изберут новое руководство Компартии К...</td>\n",
       "      <td>2012-11-14</td>\n",
       "      <td>ПЕКИН. 14 ноября. КАЗИНФОРМ - Сегодня в Пекине...</td>\n",
       "      <td>Руслан Сулейменов</td>\n",
       "    </tr>\n",
       "    <tr>\n",
       "      <th>21790</th>\n",
       "      <td>https://www.inform.kz/ru/v-pekine-otkrylsya-fo...</td>\n",
       "      <td>В Пекине открылся Форум молодежи Шанхайской ор...</td>\n",
       "      <td>2012-08-17</td>\n",
       "      <td>ПЕКИН. 17 августа. КАЗИНФОРМ - В Пекине открыл...</td>\n",
       "      <td>Мейрамбек Байгарин</td>\n",
       "    </tr>\n",
       "    <tr>\n",
       "      <th>22225</th>\n",
       "      <td>https://www.inform.kz/ru/ao-eyr-astana-zapuska...</td>\n",
       "      <td>АО «Эйр Астана» запускает новый авиамаршрут «А...</td>\n",
       "      <td>2012-08-23</td>\n",
       "      <td>АЛМАТЫ. 23 августа. КАЗИНФОРМ - АО «Эйр Астана...</td>\n",
       "      <td>Мустафина Сара</td>\n",
       "    </tr>\n",
       "    <tr>\n",
       "      <th>15279</th>\n",
       "      <td>https://www.inform.kz/ru/v-pekine-zavershilsya...</td>\n",
       "      <td>В Пекине завершился саммит Шанхайской организа...</td>\n",
       "      <td>2012-06-07</td>\n",
       "      <td>ПЕКИН. 7 июня. КАЗИНФОРМ - В Пекине завершился...</td>\n",
       "      <td>Руслан Сулейменов</td>\n",
       "    </tr>\n",
       "  </tbody>\n",
       "</table>\n",
       "</div>"
      ],
      "text/plain": [
       "                                                     url  \\\n",
       "id                                                         \n",
       "6205   https://www.inform.kz/ru/v-pekine-otkrylas-ses...   \n",
       "18605  https://www.inform.kz/ru/na-olimpiade-v-london...   \n",
       "19599  https://www.inform.kz/ru/v-londone-kazahstansk...   \n",
       "20066  https://www.inform.kz/ru/samye-zavidnye-nevest...   \n",
       "22327  https://www.inform.kz/ru/v-subbotu-novym-aviam...   \n",
       "2247   https://www.inform.kz/ru/v-pekine-tschatel-no-...   \n",
       "30348  https://www.inform.kz/ru/v-pekine-izberut-novo...   \n",
       "21790  https://www.inform.kz/ru/v-pekine-otkrylsya-fo...   \n",
       "22225  https://www.inform.kz/ru/ao-eyr-astana-zapuska...   \n",
       "15279  https://www.inform.kz/ru/v-pekine-zavershilsya...   \n",
       "\n",
       "                                                   title       date  \\\n",
       "id                                                                    \n",
       "6205                      В Пекине открылась сессия ВСНП 2012-03-05   \n",
       "18605  На Олимпиаде в Лондоне Гульнафис Айтмухамбетов... 2012-07-13   \n",
       "19599  В Лондоне казахстанская сборная планирует выст... 2012-07-25   \n",
       "20066                   Самые завидные невесты Олимпиады 2012-07-31   \n",
       "22327  В субботу новым авиамаршрутом Астана-Пекин в с... 2012-08-24   \n",
       "2247      В Пекине тщательно следят за качеством воздуха 2012-01-26   \n",
       "30348  В Пекине изберут новое руководство Компартии К... 2012-11-14   \n",
       "21790  В Пекине открылся Форум молодежи Шанхайской ор... 2012-08-17   \n",
       "22225  АО «Эйр Астана» запускает новый авиамаршрут «А... 2012-08-23   \n",
       "15279  В Пекине завершился саммит Шанхайской организа... 2012-06-07   \n",
       "\n",
       "                                                    body              author  \n",
       "id                                                                            \n",
       "6205   ПЕКИН. 5 марта. КАЗИНФОРМ - Сегодня в Пекине в...   Руслан Сулейменов  \n",
       "18605  АТЫРАУ. 13 июля. КАЗИНФОРМ - Бронзовый призер ...      Виктор Сутягин  \n",
       "19599  ЛОНДОН. 25 июля. КАЗИНФОРМ - В Лондоне казахст...                None  \n",
       "20066  АСТАНА. 31 июля. КАЗИНФОРМ - Внимание зрителей...                None  \n",
       "22327  ПЕКИН. 24 августа. КАЗИНФОРМ - В субботу, 25 а...   Руслан Сулейменов  \n",
       "2247   ПЕКИН. 26 января. КАЗИНФОРМ /Руслан Сулейменов...   Руслан Сулейменов  \n",
       "30348  ПЕКИН. 14 ноября. КАЗИНФОРМ - Сегодня в Пекине...   Руслан Сулейменов  \n",
       "21790  ПЕКИН. 17 августа. КАЗИНФОРМ - В Пекине открыл...  Мейрамбек Байгарин  \n",
       "22225  АЛМАТЫ. 23 августа. КАЗИНФОРМ - АО «Эйр Астана...      Мустафина Сара  \n",
       "15279  ПЕКИН. 7 июня. КАЗИНФОРМ - В Пекине завершился...   Руслан Сулейменов  "
      ]
     },
     "execution_count": 52,
     "metadata": {},
     "output_type": "execute_result"
    }
   ],
   "source": [
    "df.loc[list(ids)]"
   ]
  },
  {
   "cell_type": "code",
   "execution_count": null,
   "id": "30284999-e3d0-4c9b-add3-933acd211c2e",
   "metadata": {},
   "outputs": [],
   "source": []
  }
 ],
 "metadata": {
  "kernelspec": {
   "display_name": "Python 3",
   "language": "python",
   "name": "python3"
  },
  "language_info": {
   "codemirror_mode": {
    "name": "ipython",
    "version": 3
   },
   "file_extension": ".py",
   "mimetype": "text/x-python",
   "name": "python",
   "nbconvert_exporter": "python",
   "pygments_lexer": "ipython3",
   "version": "3.6.13"
  }
 },
 "nbformat": 4,
 "nbformat_minor": 5
}
