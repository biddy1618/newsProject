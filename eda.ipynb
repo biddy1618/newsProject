{
 "cells": [
  {
   "cell_type": "code",
   "execution_count": 14,
   "id": "8efc871d-cb56-4478-bb44-a33abc0d7e4c",
   "metadata": {},
   "outputs": [],
   "source": [
    "import pandas as pd\n",
    "\n",
    "from config.development import DATABASE"
   ]
  },
  {
   "cell_type": "code",
   "execution_count": 16,
   "id": "47802fd5-c27f-4b2c-a1eb-bd85d7d6adf7",
   "metadata": {},
   "outputs": [],
   "source": [
    "df = pd.read_sql('articles', DATABASE, index_col = 'id')"
   ]
  },
  {
   "cell_type": "code",
   "execution_count": 17,
   "id": "df337dad-5c47-4b90-8627-3c76a5e2edbd",
   "metadata": {},
   "outputs": [
    {
     "data": {
      "text/html": [
       "<div>\n",
       "<style scoped>\n",
       "    .dataframe tbody tr th:only-of-type {\n",
       "        vertical-align: middle;\n",
       "    }\n",
       "\n",
       "    .dataframe tbody tr th {\n",
       "        vertical-align: top;\n",
       "    }\n",
       "\n",
       "    .dataframe thead th {\n",
       "        text-align: right;\n",
       "    }\n",
       "</style>\n",
       "<table border=\"1\" class=\"dataframe\">\n",
       "  <thead>\n",
       "    <tr style=\"text-align: right;\">\n",
       "      <th></th>\n",
       "      <th>url</th>\n",
       "      <th>title</th>\n",
       "      <th>date</th>\n",
       "      <th>body</th>\n",
       "      <th>author</th>\n",
       "    </tr>\n",
       "    <tr>\n",
       "      <th>id</th>\n",
       "      <th></th>\n",
       "      <th></th>\n",
       "      <th></th>\n",
       "      <th></th>\n",
       "      <th></th>\n",
       "    </tr>\n",
       "  </thead>\n",
       "  <tbody>\n",
       "    <tr>\n",
       "      <th>17239</th>\n",
       "      <td>https://www.inform.kz/ru/v-bryussele-obsuzhden...</td>\n",
       "      <td>В Брюсселе обсуждены вопросы обмена таможенной...</td>\n",
       "      <td>2012-06-28</td>\n",
       "      <td>БРЮССЕЛЬ. 28 июня. КАЗИНФОРМ - Председатель Ко...</td>\n",
       "      <td>None</td>\n",
       "    </tr>\n",
       "    <tr>\n",
       "      <th>23149</th>\n",
       "      <td>https://www.inform.kz/ru/v-ural-ske-po-lozhnom...</td>\n",
       "      <td>В Уральске по ложному сообщению искали бомбу в...</td>\n",
       "      <td>2012-09-03</td>\n",
       "      <td>УРАЛЬСК. 3 сентября. КАЗИНФОРМ - В Уральске по...</td>\n",
       "      <td>Мейрамбек Байгарин</td>\n",
       "    </tr>\n",
       "    <tr>\n",
       "      <th>409</th>\n",
       "      <td>https://www.inform.kz/ru/v-pekine-sostoitsya-t...</td>\n",
       "      <td>В Пекине состоится торжественный прием по случ...</td>\n",
       "      <td>2012-01-09</td>\n",
       "      <td>ПЕКИН. 9 января. КАЗИНФОРМ /Руслан Сулейменов/...</td>\n",
       "      <td>Руслан Сулейменов</td>\n",
       "    </tr>\n",
       "    <tr>\n",
       "      <th>31380</th>\n",
       "      <td>https://www.inform.kz/ru/chetyre-bronzy-zavoev...</td>\n",
       "      <td>Четыре «бронзы» завоевали казахстанские боксер...</td>\n",
       "      <td>2012-11-22</td>\n",
       "      <td>АСТАНА. 22 ноября. КАЗИНФОРМ - Четыре бронзовы...</td>\n",
       "      <td>None</td>\n",
       "    </tr>\n",
       "    <tr>\n",
       "      <th>8234</th>\n",
       "      <td>https://www.inform.kz/ru/top-menedzher-gruppy-...</td>\n",
       "      <td>Топ-менеджер группы VimpelCom осужден в Алжире</td>\n",
       "      <td>2012-03-29</td>\n",
       "      <td>АСТАНА. 29 марта. КАЗИНФОРМ - Алжирский суд ош...</td>\n",
       "      <td>None</td>\n",
       "    </tr>\n",
       "    <tr>\n",
       "      <th>13769</th>\n",
       "      <td>https://www.inform.kz/ru/hozyainu-penthausa-pr...</td>\n",
       "      <td>Хозяину пентхауса пришлось заплатить за парков...</td>\n",
       "      <td>2012-05-24</td>\n",
       "      <td>АСТАНА. 24 мая. КАЗИНФОРМ - Жить в центре горо...</td>\n",
       "      <td>None</td>\n",
       "    </tr>\n",
       "    <tr>\n",
       "      <th>29512</th>\n",
       "      <td>https://www.inform.kz/ru/razboynik-iz-kazahsta...</td>\n",
       "      <td>Разбойник из Казахстана на протяжении многих л...</td>\n",
       "      <td>2012-11-06</td>\n",
       "      <td>АЛМАТЫ. 6 ноября. КАЗИНФОРМ - Разбойник из Каз...</td>\n",
       "      <td>Мустафина Сара</td>\n",
       "    </tr>\n",
       "    <tr>\n",
       "      <th>1497</th>\n",
       "      <td>https://www.inform.kz/ru/belorussko-kazahstans...</td>\n",
       "      <td>Белорусско-казахстанский товарооборот в 2011 г...</td>\n",
       "      <td>2012-01-18</td>\n",
       "      <td>АСТАНА. 18 января. КАЗИНФОРМ - Белорусско-каза...</td>\n",
       "      <td>None</td>\n",
       "    </tr>\n",
       "    <tr>\n",
       "      <th>8811</th>\n",
       "      <td>https://www.inform.kz/ru/v-karagandinskoy-obla...</td>\n",
       "      <td>В Карагандинской области в степи найдены трупы...</td>\n",
       "      <td>2012-04-04</td>\n",
       "      <td>КАРАГАНДА. 4 апреля. КАЗИНФОРМ - В Карагандинс...</td>\n",
       "      <td>None</td>\n",
       "    </tr>\n",
       "    <tr>\n",
       "      <th>27486</th>\n",
       "      <td>https://www.inform.kz/ru/nazvan-chas-iks-dlya-...</td>\n",
       "      <td>Назван «Час Икс» для Центрального рынка в Таразе</td>\n",
       "      <td>2012-10-15</td>\n",
       "      <td>ТАРАЗ. 15 октября. КАЗИНФОРМ - На 29-31 октябр...</td>\n",
       "      <td>Галина Скрипник</td>\n",
       "    </tr>\n",
       "  </tbody>\n",
       "</table>\n",
       "</div>"
      ],
      "text/plain": [
       "                                                     url  \\\n",
       "id                                                         \n",
       "17239  https://www.inform.kz/ru/v-bryussele-obsuzhden...   \n",
       "23149  https://www.inform.kz/ru/v-ural-ske-po-lozhnom...   \n",
       "409    https://www.inform.kz/ru/v-pekine-sostoitsya-t...   \n",
       "31380  https://www.inform.kz/ru/chetyre-bronzy-zavoev...   \n",
       "8234   https://www.inform.kz/ru/top-menedzher-gruppy-...   \n",
       "13769  https://www.inform.kz/ru/hozyainu-penthausa-pr...   \n",
       "29512  https://www.inform.kz/ru/razboynik-iz-kazahsta...   \n",
       "1497   https://www.inform.kz/ru/belorussko-kazahstans...   \n",
       "8811   https://www.inform.kz/ru/v-karagandinskoy-obla...   \n",
       "27486  https://www.inform.kz/ru/nazvan-chas-iks-dlya-...   \n",
       "\n",
       "                                                   title       date  \\\n",
       "id                                                                    \n",
       "17239  В Брюсселе обсуждены вопросы обмена таможенной... 2012-06-28   \n",
       "23149  В Уральске по ложному сообщению искали бомбу в... 2012-09-03   \n",
       "409    В Пекине состоится торжественный прием по случ... 2012-01-09   \n",
       "31380  Четыре «бронзы» завоевали казахстанские боксер... 2012-11-22   \n",
       "8234      Топ-менеджер группы VimpelCom осужден в Алжире 2012-03-29   \n",
       "13769  Хозяину пентхауса пришлось заплатить за парков... 2012-05-24   \n",
       "29512  Разбойник из Казахстана на протяжении многих л... 2012-11-06   \n",
       "1497   Белорусско-казахстанский товарооборот в 2011 г... 2012-01-18   \n",
       "8811   В Карагандинской области в степи найдены трупы... 2012-04-04   \n",
       "27486   Назван «Час Икс» для Центрального рынка в Таразе 2012-10-15   \n",
       "\n",
       "                                                    body              author  \n",
       "id                                                                            \n",
       "17239  БРЮССЕЛЬ. 28 июня. КАЗИНФОРМ - Председатель Ко...                None  \n",
       "23149  УРАЛЬСК. 3 сентября. КАЗИНФОРМ - В Уральске по...  Мейрамбек Байгарин  \n",
       "409    ПЕКИН. 9 января. КАЗИНФОРМ /Руслан Сулейменов/...   Руслан Сулейменов  \n",
       "31380  АСТАНА. 22 ноября. КАЗИНФОРМ - Четыре бронзовы...                None  \n",
       "8234   АСТАНА. 29 марта. КАЗИНФОРМ - Алжирский суд ош...                None  \n",
       "13769  АСТАНА. 24 мая. КАЗИНФОРМ - Жить в центре горо...                None  \n",
       "29512  АЛМАТЫ. 6 ноября. КАЗИНФОРМ - Разбойник из Каз...      Мустафина Сара  \n",
       "1497   АСТАНА. 18 января. КАЗИНФОРМ - Белорусско-каза...                None  \n",
       "8811   КАРАГАНДА. 4 апреля. КАЗИНФОРМ - В Карагандинс...                None  \n",
       "27486  ТАРАЗ. 15 октября. КАЗИНФОРМ - На 29-31 октябр...     Галина Скрипник  "
      ]
     },
     "execution_count": 17,
     "metadata": {},
     "output_type": "execute_result"
    }
   ],
   "source": [
    "df.sample(10)"
   ]
  },
  {
   "cell_type": "markdown",
   "id": "23f54e60-2350-430f-897f-d8810a425fe3",
   "metadata": {},
   "source": [
    "# Text preprocessing\n",
    "## Basic preprocessing\n",
    "* Lower-case\n",
    "* Remove numbers and non-letter characters\n",
    "* Lemmatization"
   ]
  },
  {
   "cell_type": "code",
   "execution_count": 15,
   "id": "20248d3c-cc3f-41f8-8f7f-b25ccd0ed23e",
   "metadata": {},
   "outputs": [],
   "source": [
    "from sklearn.feature_extraction.text import TfidfVectorizer\n",
    "\n",
    "import numpy as np\n",
    "import re\n",
    "\n",
    "from tqdm.notebook import tqdm\n",
    "tqdm.pandas()\n",
    "\n",
    "from pymystem3 import Mystem\n",
    "mystem = Mystem()\n",
    "\n",
    "\n",
    "def preprocess(text):\n",
    "    global mystem\n",
    "    text = text.lower()\n",
    "    text = re.sub('[\\W_\\d]+', ' ', text)\n",
    "    text = mystem.lemmatize(text)\n",
    "    text = ''.join(text)\n",
    "    return text"
   ]
  },
  {
   "cell_type": "code",
   "execution_count": 18,
   "id": "6c7bf273-0499-40ba-9566-aca18afd0915",
   "metadata": {},
   "outputs": [
    {
     "data": {
      "application/vnd.jupyter.widget-view+json": {
       "model_id": "3bf39b657d9c4c4abe4498c8b278485d",
       "version_major": 2,
       "version_minor": 0
      },
      "text/plain": [
       "  0%|          | 0/32303 [00:00<?, ?it/s]"
      ]
     },
     "metadata": {},
     "output_type": "display_data"
    },
    {
     "data": {
      "application/vnd.jupyter.widget-view+json": {
       "model_id": "d1fb975902234e3e984e661f027b5d6e",
       "version_major": 2,
       "version_minor": 0
      },
      "text/plain": [
       "  0%|          | 0/32303 [00:00<?, ?it/s]"
      ]
     },
     "metadata": {},
     "output_type": "display_data"
    }
   ],
   "source": [
    "df['body_preprocessed'] = df.body.progress_apply(preprocess)\n",
    "df['title_preprocessed'] = df.title.progress_apply(preprocess)"
   ]
  },
  {
   "cell_type": "markdown",
   "id": "19b87a66-363e-41c3-b4cc-32da7e2e6cee",
   "metadata": {},
   "source": [
    "## Search using TF-IDF"
   ]
  },
  {
   "cell_type": "code",
   "execution_count": 38,
   "id": "fcc715e7-e5a9-4a60-827c-eaeb6b32221b",
   "metadata": {},
   "outputs": [],
   "source": [
    "tfidf_body = TfidfVectorizer(\n",
    "    ngram_range = (1,2),\n",
    "    max_df = 0.8,\n",
    "    min_df = 3,\n",
    "    max_features = 10000,\n",
    ")\n",
    "\n",
    "tfidf_title = TfidfVectorizer(\n",
    "    ngram_range = (1,2),\n",
    "    max_df = 0.8,\n",
    "    min_df = 3,\n",
    "    max_features = 5000,\n",
    ")\n",
    "\n",
    "tfidf_index = df.index.values\n",
    "tfidf_body_matrix = tfidf_body.fit_transform(df.body_preprocessed)\n",
    "tfidf_title_matrix = tfidf_title.fit_transform(df.title_preprocessed)"
   ]
  },
  {
   "cell_type": "markdown",
   "id": "8c23559c-54c0-46fd-9939-eb363bca6582",
   "metadata": {},
   "source": [
    "### Get top __n__ words the article"
   ]
  },
  {
   "cell_type": "code",
   "execution_count": 7,
   "id": "969efcef-5a06-4a80-bb1b-f3e8e2915c69",
   "metadata": {},
   "outputs": [
    {
     "data": {
      "text/plain": [
       "[(2294,\n",
       "  [('сборная', 0.39223057079815954),\n",
       "   ('матч', 0.3612266905536463),\n",
       "   ('со счет', 0.2364300432213877),\n",
       "   ('чемпионат азия', 0.18873499864521773),\n",
       "   ('победа', 0.177628618367849)])]"
      ]
     },
     "execution_count": 7,
     "metadata": {},
     "output_type": "execute_result"
    }
   ],
   "source": [
    "n, top_n = 1, 5\n",
    "a_ind = df.sample(n).index\n",
    "articles = df.body_preprocessed[a_ind]\n",
    "def top_n_tokens(tfidf_body: TfidfVectorizer, articles: pd.Series, top_n: int) -> list:\n",
    "    a_tfidf = tfidf_body.transform(articles).todense().A\n",
    "    a_srt = np.flip(np.argsort(a_tfidf, axis=-1), axis=-1)[:, :n]\n",
    "    m = tfidf_body.get_feature_names()\n",
    "    \n",
    "    a_tfidf = tfidf_body.transform(articles).todense().A\n",
    "    a_ind_srt = np.flip(np.argsort(a_tfidf, axis=-1), axis=-1)[:, :top_n]\n",
    "    fn = tfidf_body.get_feature_names()\n",
    "\n",
    "    return [(indT, [(fn[i], a_tfidf[ind, i]) for i in a_ind_srt[ind]]) for ind, indT in enumerate(articles.index)]\n",
    "\n",
    "top_n_tokens(tfidf_body, articles, top_n)"
   ]
  },
  {
   "cell_type": "code",
   "execution_count": 39,
   "id": "ce37d03c-73ac-4d6c-9fa0-6bc11dcec516",
   "metadata": {},
   "outputs": [
    {
     "data": {
      "text/plain": [
       "[(17502, 0.35695989475378637),\n",
       " (17403, 0.3365570339254973),\n",
       " (10590, 0.2949825758394572),\n",
       " (29902, 0.2760671032121855),\n",
       " (6498, 0.25999235343192195),\n",
       " (27290, 0.25895570023446857),\n",
       " (12141, 0.2552753608379427),\n",
       " (9166, 0.23654858372284027),\n",
       " (29306, 0.23380446277504213),\n",
       " (19770, 0.23115299691742297)]"
      ]
     },
     "execution_count": 39,
     "metadata": {},
     "output_type": "execute_result"
    }
   ],
   "source": [
    "from sklearn.metrics.pairwise import linear_kernel\n",
    "\n",
    "q = \"Если хочешь выиграть меня, то сука\"\n",
    "\n",
    "def get_top_n(query, tfidf_body, tfidf_body_matrix, tfidf_title, tfidf_title_matrix, tfidf_index, n=10):\n",
    "    q_transformed = preprocess(q)\n",
    "    q_transformed_body = tfidf_body.transform([q_transformed])\n",
    "    q_transformed_title = tfidf_title.transform([q_transformed])\n",
    "\n",
    "    dist_body = linear_kernel(q_transformed_body, tfidf_body_matrix).flatten()\n",
    "    dist_title = linear_kernel(q_transformed_title, tfidf_title_matrix).flatten()\n",
    "\n",
    "    b_weight = 0.3\n",
    "    t_weight = 1 - b_weight\n",
    "\n",
    "    dist_weighted = b_weight * dist_body + t_weight * dist_title\n",
    "    top_n = dist_weighted.argsort()[-n:][::-1]\n",
    "    return list(zip(tfidf_index[top_n], dist_weighted[top_n]))\n",
    "\n",
    "get_top_n(q, tfidf_body, tfidf_body_matrix, tfidf_title, tfidf_title_matrix, tfidf_index)"
   ]
  },
  {
   "cell_type": "code",
   "execution_count": 2,
   "id": "0a4330b8-5561-4b9e-978f-4ddec8120903",
   "metadata": {},
   "outputs": [],
   "source": [
    "import pickle"
   ]
  },
  {
   "cell_type": "code",
   "execution_count": 3,
   "id": "f46ffd72-1f26-4142-ab12-565d881d9e7e",
   "metadata": {},
   "outputs": [],
   "source": [
    "SEARCH_FOLDER = './app/models/search/'"
   ]
  },
  {
   "cell_type": "code",
   "execution_count": 4,
   "id": "2f1840d8-5807-4df3-af40-95f49cf34775",
   "metadata": {},
   "outputs": [
    {
     "ename": "NameError",
     "evalue": "name 'tfidf_body' is not defined",
     "output_type": "error",
     "traceback": [
      "\u001b[0;31m---------------------------------------------------------------------------\u001b[0m",
      "\u001b[0;31mNameError\u001b[0m                                 Traceback (most recent call last)",
      "\u001b[0;32m<ipython-input-4-bbb693eb0af9>\u001b[0m in \u001b[0;36m<module>\u001b[0;34m\u001b[0m\n\u001b[0;32m----> 1\u001b[0;31m \u001b[0mpickle\u001b[0m\u001b[0;34m.\u001b[0m\u001b[0mdump\u001b[0m\u001b[0;34m(\u001b[0m\u001b[0mtfidf_body\u001b[0m\u001b[0;34m,\u001b[0m \u001b[0mopen\u001b[0m\u001b[0;34m(\u001b[0m\u001b[0mSEARCH_FOLDER\u001b[0m \u001b[0;34m+\u001b[0m \u001b[0;34m'tfidf_body.pkl'\u001b[0m\u001b[0;34m,\u001b[0m\u001b[0;34m'wb'\u001b[0m\u001b[0;34m)\u001b[0m\u001b[0;34m)\u001b[0m\u001b[0;34m\u001b[0m\u001b[0;34m\u001b[0m\u001b[0m\n\u001b[0m\u001b[1;32m      2\u001b[0m \u001b[0mpickle\u001b[0m\u001b[0;34m.\u001b[0m\u001b[0mdump\u001b[0m\u001b[0;34m(\u001b[0m\u001b[0mtfidf_body_matrix\u001b[0m\u001b[0;34m,\u001b[0m \u001b[0mopen\u001b[0m\u001b[0;34m(\u001b[0m\u001b[0mSEARCH_FOLDER\u001b[0m \u001b[0;34m+\u001b[0m \u001b[0;34m'tfidf_body_matrix.pkl'\u001b[0m\u001b[0;34m,\u001b[0m\u001b[0;34m'wb'\u001b[0m\u001b[0;34m)\u001b[0m\u001b[0;34m)\u001b[0m\u001b[0;34m\u001b[0m\u001b[0;34m\u001b[0m\u001b[0m\n\u001b[1;32m      3\u001b[0m \u001b[0mpickle\u001b[0m\u001b[0;34m.\u001b[0m\u001b[0mdump\u001b[0m\u001b[0;34m(\u001b[0m\u001b[0mtfidf_title\u001b[0m\u001b[0;34m,\u001b[0m \u001b[0mopen\u001b[0m\u001b[0;34m(\u001b[0m\u001b[0mSEARCH_FOLDER\u001b[0m \u001b[0;34m+\u001b[0m \u001b[0;34m'tfidf_title.pkl'\u001b[0m\u001b[0;34m,\u001b[0m\u001b[0;34m'wb'\u001b[0m\u001b[0;34m)\u001b[0m\u001b[0;34m)\u001b[0m\u001b[0;34m\u001b[0m\u001b[0;34m\u001b[0m\u001b[0m\n\u001b[1;32m      4\u001b[0m \u001b[0mpickle\u001b[0m\u001b[0;34m.\u001b[0m\u001b[0mdump\u001b[0m\u001b[0;34m(\u001b[0m\u001b[0mtfidf_title_matrix\u001b[0m\u001b[0;34m,\u001b[0m \u001b[0mopen\u001b[0m\u001b[0;34m(\u001b[0m\u001b[0mSEARCH_FOLDER\u001b[0m \u001b[0;34m+\u001b[0m \u001b[0;34m'tfidf_title_matrix.pkl'\u001b[0m\u001b[0;34m,\u001b[0m\u001b[0;34m'wb'\u001b[0m\u001b[0;34m)\u001b[0m\u001b[0;34m)\u001b[0m\u001b[0;34m\u001b[0m\u001b[0;34m\u001b[0m\u001b[0m\n\u001b[1;32m      5\u001b[0m \u001b[0mpickle\u001b[0m\u001b[0;34m.\u001b[0m\u001b[0mdump\u001b[0m\u001b[0;34m(\u001b[0m\u001b[0mtfidf_index\u001b[0m\u001b[0;34m,\u001b[0m \u001b[0mopen\u001b[0m\u001b[0;34m(\u001b[0m\u001b[0mSEARCH_FOLDER\u001b[0m \u001b[0;34m+\u001b[0m \u001b[0;34m'tfidf_index.pkl'\u001b[0m\u001b[0;34m,\u001b[0m\u001b[0;34m'wb'\u001b[0m\u001b[0;34m)\u001b[0m\u001b[0;34m)\u001b[0m\u001b[0;34m\u001b[0m\u001b[0;34m\u001b[0m\u001b[0m\n",
      "\u001b[0;31mNameError\u001b[0m: name 'tfidf_body' is not defined"
     ]
    }
   ],
   "source": [
    "pickle.dump(tfidf_body, open(SEARCH_FOLDER + 'tfidf_body.pkl','wb'))\n",
    "pickle.dump(tfidf_body_matrix, open(SEARCH_FOLDER + 'tfidf_body_matrix.pkl','wb'))\n",
    "pickle.dump(tfidf_title, open(SEARCH_FOLDER + 'tfidf_title.pkl','wb'))\n",
    "pickle.dump(tfidf_title_matrix, open(SEARCH_FOLDER + 'tfidf_title_matrix.pkl','wb'))\n",
    "pickle.dump(tfidf_index, open(SEARCH_FOLDER + 'tfidf_index.pkl','wb'))"
   ]
  },
  {
   "cell_type": "markdown",
   "id": "de729a2f-2e8b-41e9-a470-9c019170afed",
   "metadata": {},
   "source": [
    "### Load the pickle files for search"
   ]
  },
  {
   "cell_type": "code",
   "execution_count": 12,
   "id": "3d4b5b81-5092-49d7-9b5e-b88f8471a33f",
   "metadata": {},
   "outputs": [],
   "source": [
    "del tfidf_body, tfidf_body_matrix, tfidf_title, tfidf_title_matrix"
   ]
  },
  {
   "cell_type": "code",
   "execution_count": 5,
   "id": "6ac1121c-924c-4b90-87cb-d7b1783e06df",
   "metadata": {},
   "outputs": [],
   "source": [
    "tfidf_index = pickle.load(open(SEARCH_FOLDER + 'tfidf_index.pkl', 'rb'))\n",
    "tfidf_body = pickle.load(open(SEARCH_FOLDER + 'tfidf_body.pkl', 'rb'))\n",
    "tfidf_body_matrix = pickle.load(open(SEARCH_FOLDER + 'tfidf_body_matrix.pkl', 'rb'))\n",
    "tfidf_title = pickle.load(open(SEARCH_FOLDER + 'tfidf_title.pkl', 'rb'))\n",
    "tfidf_title_matrix = pickle.load(open(SEARCH_FOLDER + 'tfidf_title_matrix.pkl', 'rb'))"
   ]
  },
  {
   "cell_type": "code",
   "execution_count": 43,
   "id": "38f8b498-6cf5-40f5-8d44-e8020a9b086a",
   "metadata": {},
   "outputs": [
    {
     "name": "stdout",
     "output_type": "stream",
     "text": [
      "(6205, 18605, 19599, 20066, 22327, 2247, 30348, 21790, 22225, 15279)\n"
     ]
    }
   ],
   "source": [
    "q = 'Олимпиада в пекине'\n",
    "res = get_top_n(q, tfidf_body, tfidf_body_matrix, tfidf_title, tfidf_title_matrix, tfidf_index)\n",
    "ids, ranks = zip(*res)\n",
    "print(ids)"
   ]
  },
  {
   "cell_type": "code",
   "execution_count": 31,
   "id": "30284999-e3d0-4c9b-add3-933acd211c2e",
   "metadata": {},
   "outputs": [
    {
     "name": "stdout",
     "output_type": "stream",
     "text": [
      "[1001 2002 2001 1002] [0.00498131 0.         0.         0.        ]\n"
     ]
    }
   ],
   "source": [
    "from sklearn.metrics.pairwise import linear_kernel\n",
    "q = \"Если хочешь выиграть меня, то сука\"\n",
    "\n",
    "a = [1001, 1002, 2001, 2002]\n",
    "\n",
    "q_transformed = preprocess(q)\n",
    "q_transformed_body = tfidf_body.transform([q_transformed])\n",
    "q_transformed_title = tfidf_title.transform([q_transformed])\n",
    "\n",
    "dist_body = linear_kernel(q_transformed_body, tfidf_body_matrix).flatten()\n",
    "dist_title = linear_kernel(q_transformed_title, tfidf_title_matrix).flatten()\n",
    "\n",
    "b_weight = 0.3\n",
    "t_weight = 1 - b_weight\n",
    "\n",
    "dist_weighted = b_weight * dist_body + t_weight * dist_title\n",
    "\n",
    "m = np.in1d(tfidf_index, a)\n",
    "dist_weighted = dist_weighted[m]\n",
    "index = tfidf_index[m]\n",
    "\n",
    "top_n = dist_weighted.argsort()[-10:][::-1]\n",
    "\n",
    "print(index[top_n], dist_weighted[top_n])"
   ]
  },
  {
   "cell_type": "markdown",
   "id": "120aba43-ff34-4d0d-8209-30cefb008dff",
   "metadata": {},
   "source": [
    "## Transliteration check"
   ]
  },
  {
   "cell_type": "code",
   "execution_count": 1,
   "id": "2360c807-f25a-409c-992d-103d0215fe27",
   "metadata": {},
   "outputs": [
    {
     "name": "stdout",
     "output_type": "stream",
     "text": [
      "Collecting transliterate\n",
      "  Downloading transliterate-1.10.2-py2.py3-none-any.whl (45 kB)\n",
      "\u001b[K     |████████████████████████████████| 45 kB 282 kB/s eta 0:00:01\n",
      "\u001b[?25hRequirement already satisfied: six>=1.1.0 in /home/biddy/.local/lib/python3.6/site-packages (from transliterate) (1.15.0)\n",
      "Installing collected packages: transliterate\n",
      "Successfully installed transliterate-1.10.2\n"
     ]
    }
   ],
   "source": [
    "!pip install transliterate"
   ]
  },
  {
   "cell_type": "code",
   "execution_count": 8,
   "id": "08968b64-0526-4d53-ae65-3bc095165439",
   "metadata": {},
   "outputs": [
    {
     "data": {
      "text/plain": [
       "'я люблю тебя'"
      ]
     },
     "execution_count": 8,
     "metadata": {},
     "output_type": "execute_result"
    }
   ],
   "source": [
    "from transliterate import translit\n",
    "\n",
    "translit('я люблю тебя', 'ru')"
   ]
  },
  {
   "cell_type": "code",
   "execution_count": 3,
   "id": "866c4927-da73-4a43-b3b9-2c5d56405218",
   "metadata": {},
   "outputs": [
    {
     "data": {
      "text/plain": [
       "'даи мне пива'"
      ]
     },
     "execution_count": 3,
     "metadata": {},
     "output_type": "execute_result"
    }
   ],
   "source": [
    "translit('dai mne piva', 'ru')"
   ]
  },
  {
   "cell_type": "code",
   "execution_count": 4,
   "id": "5992979c-cd2f-43a0-adbd-9df14e959d43",
   "metadata": {},
   "outputs": [
    {
     "name": "stdout",
     "output_type": "stream",
     "text": [
      "Collecting autocorrect\n",
      "  Downloading autocorrect-2.5.0.tar.gz (622 kB)\n",
      "\u001b[K     |████████████████████████████████| 622 kB 561 kB/s eta 0:00:01\n",
      "\u001b[?25hBuilding wheels for collected packages: autocorrect\n",
      "  Building wheel for autocorrect (setup.py) ... \u001b[?25ldone\n",
      "\u001b[?25h  Created wheel for autocorrect: filename=autocorrect-2.5.0-py3-none-any.whl size=621854 sha256=730dc07d497e901c3e85815f9c9b90dcd48b5041fa1f6ea20a7a8c7a39dcfc69\n",
      "  Stored in directory: /home/biddy/.cache/pip/wheels/a4/51/6c/f75116aae65b52be7ad1d57e47ad4e89ab818bf45d9093021f\n",
      "Successfully built autocorrect\n",
      "Installing collected packages: autocorrect\n",
      "Successfully installed autocorrect-2.5.0\n"
     ]
    }
   ],
   "source": [
    "!pip install autocorrect"
   ]
  },
  {
   "cell_type": "code",
   "execution_count": 6,
   "id": "4e271361-c527-4f97-98db-8c9a9afcc37a",
   "metadata": {},
   "outputs": [
    {
     "name": "stdout",
     "output_type": "stream",
     "text": [
      "dictionary for this language not found, downloading...\n",
      "__________________________________________________\n",
      ">>>>>>>>>>>>>>>>>>>>>>>>>>>>>>>>>>>>>>>>>>>>>>>>>>\n",
      "done!\n"
     ]
    },
    {
     "data": {
      "text/plain": [
       "'Алматы самых левый город на свете'"
      ]
     },
     "execution_count": 6,
     "metadata": {},
     "output_type": "execute_result"
    }
   ],
   "source": [
    "from autocorrect import Speller\n",
    "spell = Speller(lang='ru')\n",
    "spell(\"Алматы самыв хуевый город на свете\")"
   ]
  },
  {
   "cell_type": "code",
   "execution_count": 7,
   "id": "1e46f2de-ccbd-47ff-b48b-8f8de7617034",
   "metadata": {},
   "outputs": [
    {
     "data": {
      "text/plain": [
       "'Пришло теплое лето. На личной опушки распускают колокольчики, незабудки, шиповник. Белые ромашки притягивают к концу свои нежные лепестки. Вылетают из уютных гнёзд птицы. У зверей взрослеет смена. Медвежата старше всех. Они родились еще холодной зимой в берлоги. Теперь они послушно следуют за строгой матерью. Рыжие лисята весело играют у нары. А кто мелькает в сосновых ветках? Да это ловкие бельчата совершают свои первые высотные прыжки. В сумерках выходят на охоту колючий ежата.\\nНе обижайте лесных малышей. Приходите в лес верными друзями.\\n(По Н. Надеждой)\\n\\nСолнце\\n\\nВыплыла из-за леса сонце. Повеселела лесная поляна. Капельки расы заиграли в каждом цветке, в каждой травинки.\\nНо вот набежала тучи и закрыла всё небо. Загрустила природа. Столп пыли полетел к озеру. От резкого ветра с деревьев посыпались сухие судя. Лес глухо и грозно зашумел. На земле появились мокрые пятна. С холмов потекли ручьи. Удары грома заглушили всю месность. Но раза быстро прошла. И снова над лесом светит солнце.\\n\\nЕжи\\n\\nУнас под крыльцом живут еды. По вечерам вся семья выходит гулять. Взрослые ежи роют землю маленькими лапами. Они достают корешки и едят. Маленькие ежата в это время играют, резца.\\nОднажды к старому ежу подбежала сабака. Ёж свернулся клубок и замер. Собака осторожно покатила ежа пруду. Ёш плюхнулся в воду и поплыл. Я прогнал сабаку. На следующюю весну остался под крыльцом один старый ёжек. Куда девались остальные? Они переселились в другое место. Старый ёж захотел покинуть мой дом.\\n\\nЛетнее утро\\n\\nЯ стою возле цветущих клеверного поля. Разноцветный ковёр его переливает, меняет окраску. В самой дали сияет ослепительным блеском залатая кайма.Взлетел жаворонок. Серый комочек в первых лучах солнца стал золотым. Яркие искры заиграли каплях расы на цветах.Что за чудесные звуки разлились по земле? Это подлетели пчёлы. Они зажали над чашей цветов. Проснулся кузнечик. Понеслась и его скрипучая музыка. Теперь всё поле поёт. Все рады тёплому летниму утру. Радостно и мне.\\n'"
      ]
     },
     "execution_count": 7,
     "metadata": {},
     "output_type": "execute_result"
    }
   ],
   "source": [
    "spell('''Пришло теплое лето. На лисной опушки распускаюца колоколчики, незабутки, шыповник. Белые ромашки пратягивают к сонцу свои нежные лепески. Вылитают из уютных гнёзд птинцы. У зверей взраслеет смена. Мидвежата старше всех. Они радились еще холодной зимой в берлоги. Теперь они послушно следуют за строгай матерью. Рыжые лесята весело играют у нары. А кто мелькает в сасновых ветках? Да это лофкие бельчята совершают свои первые высотные прышки. В сумерках выходят на охоту колючии ежата.\n",
    "Не обижайте лесных малышей. Приходите в лес верными друзями.\n",
    "(По Н. Надеждиной)\n",
    "Солнце\n",
    "Выплыла из-за леса сонце. Повеселела лесная паляна. Капельки расы заиграли в каждом цветке, в каждой травинки.\n",
    "Но вот набежала тучя и закрыла всё небо. Загрустила природа. Столп пыли полетел к озиру. От реского ветра с деревьев посыпались сухие сучя. Лес глухо и грозно зашумел. На земле поевились мокрые пятна. С халмов потикли ручьи. Удары грома аглушили всю месность. Но граза быстро прошла. И снова над лесом светит солнце.\n",
    "Ежи\n",
    "Унас под крыльцом живут ежы. По вечерам вся семья выходит гулять. Взрослые ежи роют землю маленькими лапами. Они достают корешки и едят. Маленкие ежата в это время играют, резвяца.\n",
    "Аднажды к старому ежу подбежала сабака. Ёж свернулся вклубок и замер. Собака осторожно покатила ежа кпруду. Ёш плюхнулся в воду и поплыл. Я прогнал сабаку. На следующюю весну остался под крыльцом один старый ёжек. Куда девались остальные? Они переселились в другое место. Старый ёж незахотел пакинуть мой дом.\n",
    "Летнее утро\n",
    "Я стою возле цветущива клеверного поля. Разноцветный ковёр его переливаеца, меняет окраску. В самой дали сияет ослепителным блеском залатая кайма.Взлетел жаворонок. Серый камочек в первых лучах солнца стал золотым. Яркие искры заиграли вкаплях расы на цветах.Что за чудестные звуки разлились по земле? Это подлетели пчёлы. Они зажужали над чяшей цветов. Проснулся кузнечик. Понеслась и его скрепучая музыка. Теперь всё поле поёт. Все рады тёпламу летниму утру. Радосно и мне.\n",
    "''')"
   ]
  },
  {
   "cell_type": "code",
   "execution_count": null,
   "id": "18c75ad2-a924-40f0-a102-c58ad83d9dca",
   "metadata": {},
   "outputs": [],
   "source": []
  }
 ],
 "metadata": {
  "kernelspec": {
   "display_name": "Python 3",
   "language": "python",
   "name": "python3"
  },
  "language_info": {
   "codemirror_mode": {
    "name": "ipython",
    "version": 3
   },
   "file_extension": ".py",
   "mimetype": "text/x-python",
   "name": "python",
   "nbconvert_exporter": "python",
   "pygments_lexer": "ipython3",
   "version": "3.6.13"
  }
 },
 "nbformat": 4,
 "nbformat_minor": 5
}
